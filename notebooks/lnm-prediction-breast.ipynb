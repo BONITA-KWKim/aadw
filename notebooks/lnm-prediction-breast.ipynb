{
 "cells": [
  {
   "cell_type": "code",
   "execution_count": 1,
   "id": "32e4f582",
   "metadata": {},
   "outputs": [],
   "source": [
    "import pandas as pd\n",
    "import xgboost\n",
    "import matplotlib.pyplot as plt\n",
    "import numpy as np\n",
    "import seaborn as sns\n",
    "\n",
    "from sklearn.model_selection import train_test_split\n",
    "from sklearn.metrics import explained_variance_score"
   ]
  },
  {
   "cell_type": "code",
   "execution_count": 170,
   "id": "f42438f7",
   "metadata": {},
   "outputs": [
    {
     "data": {
      "text/plain": [
       "Index(['p_id', 'serial', 'age', 'surgical_name', 'histologic_type',\n",
       "       'cancer_loc', 'cancer_count', 'cancer_size', 'ng', 'hg', 'hg_score_1',\n",
       "       'hg_score_2', 'hg_score_3', 'cis_status', 'cis_type', 't_category',\n",
       "       'lnm_in_surgery', 'lnm_count_in_surgery', 'lnm_size_in_surgery',\n",
       "       'n_category', 'm_category', 'ajcc_stage', 'er_status', 'er_score',\n",
       "       'pr_status', 'pr_score', 'ki-67', 'her2', 'her2_inc', 'her2_sish',\n",
       "       'her2_sish_ratio', 'brca_mutation', 'axillary_lnm', 'surgical_recur',\n",
       "       'organ_Tx', 'death', 'slide_directory'],\n",
       "      dtype='object')"
      ]
     },
     "execution_count": 170,
     "metadata": {},
     "output_type": "execute_result"
    }
   ],
   "source": [
    "CLINICAL_DATA_DIR = '/data/rnd1712/dataset/breast/lnm/breast-dataset-v1.0/LNM.xlsx'\n",
    "o_df = pd.read_excel(CLINICAL_DATA_DIR, engine=\"openpyxl\")\n",
    "o_df.columns"
   ]
  },
  {
   "cell_type": "code",
   "execution_count": 171,
   "id": "08c24b39",
   "metadata": {},
   "outputs": [
    {
     "data": {
      "text/html": [
       "<div>\n",
       "<style scoped>\n",
       "    .dataframe tbody tr th:only-of-type {\n",
       "        vertical-align: middle;\n",
       "    }\n",
       "\n",
       "    .dataframe tbody tr th {\n",
       "        vertical-align: top;\n",
       "    }\n",
       "\n",
       "    .dataframe thead th {\n",
       "        text-align: right;\n",
       "    }\n",
       "</style>\n",
       "<table border=\"1\" class=\"dataframe\">\n",
       "  <thead>\n",
       "    <tr style=\"text-align: right;\">\n",
       "      <th></th>\n",
       "      <th>p_id</th>\n",
       "      <th>serial</th>\n",
       "      <th>age</th>\n",
       "      <th>surgical_name</th>\n",
       "      <th>histologic_type</th>\n",
       "      <th>cancer_loc</th>\n",
       "      <th>cancer_count</th>\n",
       "      <th>cancer_size</th>\n",
       "      <th>ng</th>\n",
       "      <th>hg</th>\n",
       "      <th>...</th>\n",
       "      <th>her2</th>\n",
       "      <th>her2_inc</th>\n",
       "      <th>her2_sish</th>\n",
       "      <th>her2_sish_ratio</th>\n",
       "      <th>brca_mutation</th>\n",
       "      <th>axillary_lnm</th>\n",
       "      <th>surgical_recur</th>\n",
       "      <th>organ_Tx</th>\n",
       "      <th>death</th>\n",
       "      <th>slide_directory</th>\n",
       "    </tr>\n",
       "  </thead>\n",
       "  <tbody>\n",
       "    <tr>\n",
       "      <th>0</th>\n",
       "      <td>1</td>\n",
       "      <td>BC_01_0002</td>\n",
       "      <td>51</td>\n",
       "      <td>1</td>\n",
       "      <td>1</td>\n",
       "      <td>1</td>\n",
       "      <td>1</td>\n",
       "      <td>22.0</td>\n",
       "      <td>3.0</td>\n",
       "      <td>3.0</td>\n",
       "      <td>...</td>\n",
       "      <td>0.0</td>\n",
       "      <td>NaN</td>\n",
       "      <td>NaN</td>\n",
       "      <td>NaN</td>\n",
       "      <td>NaN</td>\n",
       "      <td>0</td>\n",
       "      <td>0</td>\n",
       "      <td>0</td>\n",
       "      <td>0</td>\n",
       "      <td>/data/118/MOHW/breast/dataset/BC_01/distribute...</td>\n",
       "    </tr>\n",
       "    <tr>\n",
       "      <th>1</th>\n",
       "      <td>2</td>\n",
       "      <td>BC_01_0011</td>\n",
       "      <td>55</td>\n",
       "      <td>2</td>\n",
       "      <td>2</td>\n",
       "      <td>2</td>\n",
       "      <td>1</td>\n",
       "      <td>23.0</td>\n",
       "      <td>2.0</td>\n",
       "      <td>2.0</td>\n",
       "      <td>...</td>\n",
       "      <td>0.0</td>\n",
       "      <td>30.0</td>\n",
       "      <td>NaN</td>\n",
       "      <td>NaN</td>\n",
       "      <td>NaN</td>\n",
       "      <td>0</td>\n",
       "      <td>0</td>\n",
       "      <td>0</td>\n",
       "      <td>0</td>\n",
       "      <td>/data/118/MOHW/breast/dataset/BC_01/distribute...</td>\n",
       "    </tr>\n",
       "    <tr>\n",
       "      <th>2</th>\n",
       "      <td>3</td>\n",
       "      <td>BC_01_0397</td>\n",
       "      <td>60</td>\n",
       "      <td>1</td>\n",
       "      <td>1</td>\n",
       "      <td>2</td>\n",
       "      <td>1</td>\n",
       "      <td>23.0</td>\n",
       "      <td>2.0</td>\n",
       "      <td>2.0</td>\n",
       "      <td>...</td>\n",
       "      <td>0.0</td>\n",
       "      <td>0.0</td>\n",
       "      <td>NaN</td>\n",
       "      <td>NaN</td>\n",
       "      <td>NaN</td>\n",
       "      <td>0</td>\n",
       "      <td>0</td>\n",
       "      <td>0</td>\n",
       "      <td>0</td>\n",
       "      <td>/data/118/MOHW/breast/dataset/BC_01/distribute...</td>\n",
       "    </tr>\n",
       "    <tr>\n",
       "      <th>3</th>\n",
       "      <td>4</td>\n",
       "      <td>BC_01_0398</td>\n",
       "      <td>58</td>\n",
       "      <td>1</td>\n",
       "      <td>1</td>\n",
       "      <td>2</td>\n",
       "      <td>1</td>\n",
       "      <td>13.0</td>\n",
       "      <td>2.0</td>\n",
       "      <td>2.0</td>\n",
       "      <td>...</td>\n",
       "      <td>0.0</td>\n",
       "      <td>30.0</td>\n",
       "      <td>NaN</td>\n",
       "      <td>NaN</td>\n",
       "      <td>NaN</td>\n",
       "      <td>0</td>\n",
       "      <td>0</td>\n",
       "      <td>0</td>\n",
       "      <td>0</td>\n",
       "      <td>/data/118/MOHW/breast/dataset/BC_01/distribute...</td>\n",
       "    </tr>\n",
       "    <tr>\n",
       "      <th>4</th>\n",
       "      <td>5</td>\n",
       "      <td>BC_01_0404</td>\n",
       "      <td>72</td>\n",
       "      <td>1</td>\n",
       "      <td>1</td>\n",
       "      <td>2</td>\n",
       "      <td>1</td>\n",
       "      <td>13.0</td>\n",
       "      <td>2.0</td>\n",
       "      <td>1.0</td>\n",
       "      <td>...</td>\n",
       "      <td>0.0</td>\n",
       "      <td>30.0</td>\n",
       "      <td>NaN</td>\n",
       "      <td>NaN</td>\n",
       "      <td>NaN</td>\n",
       "      <td>0</td>\n",
       "      <td>0</td>\n",
       "      <td>0</td>\n",
       "      <td>0</td>\n",
       "      <td>/data/118/MOHW/breast/dataset/BC_01/distribute...</td>\n",
       "    </tr>\n",
       "  </tbody>\n",
       "</table>\n",
       "<p>5 rows × 37 columns</p>\n",
       "</div>"
      ],
      "text/plain": [
       "   p_id      serial  age  surgical_name  histologic_type  cancer_loc  \\\n",
       "0     1  BC_01_0002   51              1                1           1   \n",
       "1     2  BC_01_0011   55              2                2           2   \n",
       "2     3  BC_01_0397   60              1                1           2   \n",
       "3     4  BC_01_0398   58              1                1           2   \n",
       "4     5  BC_01_0404   72              1                1           2   \n",
       "\n",
       "   cancer_count  cancer_size   ng   hg  ...  her2  her2_inc  her2_sish  \\\n",
       "0             1         22.0  3.0  3.0  ...   0.0       NaN        NaN   \n",
       "1             1         23.0  2.0  2.0  ...   0.0      30.0        NaN   \n",
       "2             1         23.0  2.0  2.0  ...   0.0       0.0        NaN   \n",
       "3             1         13.0  2.0  2.0  ...   0.0      30.0        NaN   \n",
       "4             1         13.0  2.0  1.0  ...   0.0      30.0        NaN   \n",
       "\n",
       "   her2_sish_ratio  brca_mutation axillary_lnm  surgical_recur  organ_Tx  \\\n",
       "0              NaN            NaN            0               0         0   \n",
       "1              NaN            NaN            0               0         0   \n",
       "2              NaN            NaN            0               0         0   \n",
       "3              NaN            NaN            0               0         0   \n",
       "4              NaN            NaN            0               0         0   \n",
       "\n",
       "   death                                    slide_directory  \n",
       "0      0  /data/118/MOHW/breast/dataset/BC_01/distribute...  \n",
       "1      0  /data/118/MOHW/breast/dataset/BC_01/distribute...  \n",
       "2      0  /data/118/MOHW/breast/dataset/BC_01/distribute...  \n",
       "3      0  /data/118/MOHW/breast/dataset/BC_01/distribute...  \n",
       "4      0  /data/118/MOHW/breast/dataset/BC_01/distribute...  \n",
       "\n",
       "[5 rows x 37 columns]"
      ]
     },
     "execution_count": 171,
     "metadata": {},
     "output_type": "execute_result"
    }
   ],
   "source": [
    "o_df.head()"
   ]
  },
  {
   "cell_type": "code",
   "execution_count": 324,
   "id": "e8a45c53",
   "metadata": {},
   "outputs": [
    {
     "data": {
      "text/html": [
       "<div>\n",
       "<style scoped>\n",
       "    .dataframe tbody tr th:only-of-type {\n",
       "        vertical-align: middle;\n",
       "    }\n",
       "\n",
       "    .dataframe tbody tr th {\n",
       "        vertical-align: top;\n",
       "    }\n",
       "\n",
       "    .dataframe thead th {\n",
       "        text-align: right;\n",
       "    }\n",
       "</style>\n",
       "<table border=\"1\" class=\"dataframe\">\n",
       "  <thead>\n",
       "    <tr style=\"text-align: right;\">\n",
       "      <th></th>\n",
       "      <th>p_id</th>\n",
       "      <th>er_status</th>\n",
       "      <th>er_score</th>\n",
       "      <th>her2</th>\n",
       "    </tr>\n",
       "  </thead>\n",
       "  <tbody>\n",
       "    <tr>\n",
       "      <th>0</th>\n",
       "      <td>1</td>\n",
       "      <td>0.0</td>\n",
       "      <td>NaN</td>\n",
       "      <td>0.0</td>\n",
       "    </tr>\n",
       "    <tr>\n",
       "      <th>1</th>\n",
       "      <td>2</td>\n",
       "      <td>1.0</td>\n",
       "      <td>90.0</td>\n",
       "      <td>0.0</td>\n",
       "    </tr>\n",
       "    <tr>\n",
       "      <th>2</th>\n",
       "      <td>3</td>\n",
       "      <td>1.0</td>\n",
       "      <td>80.0</td>\n",
       "      <td>0.0</td>\n",
       "    </tr>\n",
       "    <tr>\n",
       "      <th>3</th>\n",
       "      <td>4</td>\n",
       "      <td>1.0</td>\n",
       "      <td>100.0</td>\n",
       "      <td>0.0</td>\n",
       "    </tr>\n",
       "    <tr>\n",
       "      <th>4</th>\n",
       "      <td>5</td>\n",
       "      <td>1.0</td>\n",
       "      <td>95.0</td>\n",
       "      <td>0.0</td>\n",
       "    </tr>\n",
       "  </tbody>\n",
       "</table>\n",
       "</div>"
      ],
      "text/plain": [
       "   p_id  er_status  er_score  her2\n",
       "0     1        0.0       NaN   0.0\n",
       "1     2        1.0      90.0   0.0\n",
       "2     3        1.0      80.0   0.0\n",
       "3     4        1.0     100.0   0.0\n",
       "4     5        1.0      95.0   0.0"
      ]
     },
     "execution_count": 324,
     "metadata": {},
     "output_type": "execute_result"
    }
   ],
   "source": [
    "#clinical_df = o_df[['p_id', 'cancer_size', 'hg', 'er_status', 'er_score', 'her2']].copy()\n",
    "clinical_df = o_df[['p_id', 'er_status', 'er_score', 'her2']].copy()\n",
    "clinical_df.head()"
   ]
  },
  {
   "cell_type": "code",
   "execution_count": 2,
   "id": "3d396238",
   "metadata": {},
   "outputs": [],
   "source": [
    "CLINICAL_DATA_PATH_LIST = [\n",
    "    '/data/rnd1712/dataset/breast/lnm/breast-dataset-v1.0/breast-patches2/testset/results.csv'\n",
    "]"
   ]
  },
  {
   "cell_type": "code",
   "execution_count": 3,
   "id": "b9890e4f",
   "metadata": {},
   "outputs": [
    {
     "data": {
      "text/plain": [
       "(62, 13)"
      ]
     },
     "execution_count": 3,
     "metadata": {},
     "output_type": "execute_result"
    }
   ],
   "source": [
    "df = None\n",
    "for idx, path in enumerate(CLINICAL_DATA_PATH_LIST):\n",
    "    tmp = pd.read_csv(path)\n",
    "\n",
    "    if idx == 0:\n",
    "        df = tmp\n",
    "    else:\n",
    "        df = df.append(tmp, ignore_index=True)\n",
    "df.shape"
   ]
  },
  {
   "cell_type": "code",
   "execution_count": 4,
   "id": "a686b2ba",
   "metadata": {
    "scrolled": true
   },
   "outputs": [
    {
     "data": {
      "text/html": [
       "<div>\n",
       "<style scoped>\n",
       "    .dataframe tbody tr th:only-of-type {\n",
       "        vertical-align: middle;\n",
       "    }\n",
       "\n",
       "    .dataframe tbody tr th {\n",
       "        vertical-align: top;\n",
       "    }\n",
       "\n",
       "    .dataframe thead th {\n",
       "        text-align: right;\n",
       "    }\n",
       "</style>\n",
       "<table border=\"1\" class=\"dataframe\">\n",
       "  <thead>\n",
       "    <tr style=\"text-align: right;\">\n",
       "      <th></th>\n",
       "      <th>Unnamed: 0</th>\n",
       "      <th>A</th>\n",
       "      <th>B</th>\n",
       "      <th>D</th>\n",
       "      <th>E</th>\n",
       "      <th>mean_m_prob</th>\n",
       "      <th>mean_n_prob</th>\n",
       "      <th>std_m_prob</th>\n",
       "      <th>std_n_prob</th>\n",
       "      <th>sum_m_prob</th>\n",
       "      <th>sum_n_prob</th>\n",
       "      <th>tiles</th>\n",
       "      <th>wsi_id</th>\n",
       "    </tr>\n",
       "  </thead>\n",
       "  <tbody>\n",
       "    <tr>\n",
       "      <th>0</th>\n",
       "      <td>0</td>\n",
       "      <td>0.0</td>\n",
       "      <td>18.0</td>\n",
       "      <td>0.0</td>\n",
       "      <td>0.0</td>\n",
       "      <td>0.750732</td>\n",
       "      <td>0.249268</td>\n",
       "      <td>0.028570</td>\n",
       "      <td>0.028570</td>\n",
       "      <td>1084.056922</td>\n",
       "      <td>359.943077</td>\n",
       "      <td>1444.0</td>\n",
       "      <td>229.0</td>\n",
       "    </tr>\n",
       "    <tr>\n",
       "      <th>1</th>\n",
       "      <td>1</td>\n",
       "      <td>0.0</td>\n",
       "      <td>7.0</td>\n",
       "      <td>0.0</td>\n",
       "      <td>0.0</td>\n",
       "      <td>0.718805</td>\n",
       "      <td>0.281195</td>\n",
       "      <td>0.039801</td>\n",
       "      <td>0.039801</td>\n",
       "      <td>763.371435</td>\n",
       "      <td>298.628565</td>\n",
       "      <td>1062.0</td>\n",
       "      <td>247.0</td>\n",
       "    </tr>\n",
       "    <tr>\n",
       "      <th>2</th>\n",
       "      <td>2</td>\n",
       "      <td>0.0</td>\n",
       "      <td>0.0</td>\n",
       "      <td>0.0</td>\n",
       "      <td>0.0</td>\n",
       "      <td>0.707030</td>\n",
       "      <td>0.292970</td>\n",
       "      <td>0.036572</td>\n",
       "      <td>0.036572</td>\n",
       "      <td>36.765539</td>\n",
       "      <td>15.234461</td>\n",
       "      <td>52.0</td>\n",
       "      <td>163.0</td>\n",
       "    </tr>\n",
       "    <tr>\n",
       "      <th>3</th>\n",
       "      <td>3</td>\n",
       "      <td>0.0</td>\n",
       "      <td>0.0</td>\n",
       "      <td>0.0</td>\n",
       "      <td>0.0</td>\n",
       "      <td>0.731882</td>\n",
       "      <td>0.268118</td>\n",
       "      <td>0.024699</td>\n",
       "      <td>0.024699</td>\n",
       "      <td>174.187940</td>\n",
       "      <td>63.812060</td>\n",
       "      <td>238.0</td>\n",
       "      <td>165.0</td>\n",
       "    </tr>\n",
       "    <tr>\n",
       "      <th>4</th>\n",
       "      <td>4</td>\n",
       "      <td>0.0</td>\n",
       "      <td>3.0</td>\n",
       "      <td>0.0</td>\n",
       "      <td>0.0</td>\n",
       "      <td>0.750163</td>\n",
       "      <td>0.249837</td>\n",
       "      <td>0.022964</td>\n",
       "      <td>0.022964</td>\n",
       "      <td>603.131025</td>\n",
       "      <td>200.868975</td>\n",
       "      <td>804.0</td>\n",
       "      <td>168.0</td>\n",
       "    </tr>\n",
       "  </tbody>\n",
       "</table>\n",
       "</div>"
      ],
      "text/plain": [
       "   Unnamed: 0    A     B    D    E  mean_m_prob  mean_n_prob  std_m_prob  \\\n",
       "0           0  0.0  18.0  0.0  0.0     0.750732     0.249268    0.028570   \n",
       "1           1  0.0   7.0  0.0  0.0     0.718805     0.281195    0.039801   \n",
       "2           2  0.0   0.0  0.0  0.0     0.707030     0.292970    0.036572   \n",
       "3           3  0.0   0.0  0.0  0.0     0.731882     0.268118    0.024699   \n",
       "4           4  0.0   3.0  0.0  0.0     0.750163     0.249837    0.022964   \n",
       "\n",
       "   std_n_prob   sum_m_prob  sum_n_prob   tiles  wsi_id  \n",
       "0    0.028570  1084.056922  359.943077  1444.0   229.0  \n",
       "1    0.039801   763.371435  298.628565  1062.0   247.0  \n",
       "2    0.036572    36.765539   15.234461    52.0   163.0  \n",
       "3    0.024699   174.187940   63.812060   238.0   165.0  \n",
       "4    0.022964   603.131025  200.868975   804.0   168.0  "
      ]
     },
     "execution_count": 4,
     "metadata": {},
     "output_type": "execute_result"
    }
   ],
   "source": [
    "df.head()"
   ]
  },
  {
   "cell_type": "code",
   "execution_count": 7,
   "id": "2a209ec4",
   "metadata": {},
   "outputs": [
    {
     "data": {
      "text/plain": [
       "Index(['Unnamed: 0', 'A', 'B', 'D', 'E', 'mean_m_prob', 'mean_n_prob',\n",
       "       'std_m_prob', 'std_n_prob', 'sum_m_prob', 'sum_n_prob', 'tiles',\n",
       "       'wsi_id'],\n",
       "      dtype='object')"
      ]
     },
     "execution_count": 7,
     "metadata": {},
     "output_type": "execute_result"
    }
   ],
   "source": [
    "df.columns"
   ]
  },
  {
   "cell_type": "code",
   "execution_count": 9,
   "id": "65b68e52",
   "metadata": {},
   "outputs": [],
   "source": [
    "df.drop(['Unnamed: 0'], axis=1, inplace=True)"
   ]
  },
  {
   "cell_type": "code",
   "execution_count": 10,
   "id": "77b0a882",
   "metadata": {},
   "outputs": [],
   "source": [
    "df['wsi_id'] = df['wsi_id'].astype(int)"
   ]
  },
  {
   "cell_type": "code",
   "execution_count": 14,
   "id": "4c4306c6",
   "metadata": {},
   "outputs": [],
   "source": [
    "df[\"metastasis\"] = np.nan"
   ]
  },
  {
   "cell_type": "code",
   "execution_count": 15,
   "id": "ecd3aa94",
   "metadata": {},
   "outputs": [],
   "source": [
    "NORMAL_SLIDES = [163,168,180,194,205,229,239,247,269,280,293,297,315,323,326,333,346,\n",
    "165,175,185,196,214,230,240,252,279,283,294,311,316,325,332,336,347]\n",
    "METASTASIS_SLIDES = [101,104,107,111,118,121,125,128,145,154,164,17,19,21,24,28,32,38,42,45,48,55,57,70,73,87,89,98]"
   ]
  },
  {
   "cell_type": "code",
   "execution_count": 173,
   "id": "e39051fe",
   "metadata": {},
   "outputs": [],
   "source": [
    "for id_ in NORMAL_SLIDES:\n",
    "    df.loc[df[\"wsi_id\"] == id_, \"metastasis\"] = 0\n",
    "    \n",
    "for id_ in METASTASIS_SLIDES:\n",
    "    df.loc[df[\"wsi_id\"] == id_, \"metastasis\"] = 1\n",
    "    \n",
    "df[\"metastasis\"] = pd.to_numeric(df[\"metastasis\"])\n",
    "df['metastasis'] = df['metastasis'].astype(int)"
   ]
  },
  {
   "cell_type": "code",
   "execution_count": 20,
   "id": "457970f0",
   "metadata": {
    "scrolled": true
   },
   "outputs": [
    {
     "data": {
      "text/html": [
       "<div>\n",
       "<style scoped>\n",
       "    .dataframe tbody tr th:only-of-type {\n",
       "        vertical-align: middle;\n",
       "    }\n",
       "\n",
       "    .dataframe tbody tr th {\n",
       "        vertical-align: top;\n",
       "    }\n",
       "\n",
       "    .dataframe thead th {\n",
       "        text-align: right;\n",
       "    }\n",
       "</style>\n",
       "<table border=\"1\" class=\"dataframe\">\n",
       "  <thead>\n",
       "    <tr style=\"text-align: right;\">\n",
       "      <th></th>\n",
       "      <th>A</th>\n",
       "      <th>B</th>\n",
       "      <th>D</th>\n",
       "      <th>E</th>\n",
       "      <th>mean_m_prob</th>\n",
       "      <th>mean_n_prob</th>\n",
       "      <th>std_m_prob</th>\n",
       "      <th>std_n_prob</th>\n",
       "      <th>sum_m_prob</th>\n",
       "      <th>sum_n_prob</th>\n",
       "      <th>tiles</th>\n",
       "      <th>wsi_id</th>\n",
       "      <th>metastasis</th>\n",
       "    </tr>\n",
       "  </thead>\n",
       "  <tbody>\n",
       "    <tr>\n",
       "      <th>0</th>\n",
       "      <td>0.0</td>\n",
       "      <td>18.0</td>\n",
       "      <td>0.0</td>\n",
       "      <td>0.0</td>\n",
       "      <td>0.750732</td>\n",
       "      <td>0.249268</td>\n",
       "      <td>0.028570</td>\n",
       "      <td>0.028570</td>\n",
       "      <td>1084.056922</td>\n",
       "      <td>359.943077</td>\n",
       "      <td>1444.0</td>\n",
       "      <td>229</td>\n",
       "      <td>0</td>\n",
       "    </tr>\n",
       "    <tr>\n",
       "      <th>1</th>\n",
       "      <td>0.0</td>\n",
       "      <td>7.0</td>\n",
       "      <td>0.0</td>\n",
       "      <td>0.0</td>\n",
       "      <td>0.718805</td>\n",
       "      <td>0.281195</td>\n",
       "      <td>0.039801</td>\n",
       "      <td>0.039801</td>\n",
       "      <td>763.371435</td>\n",
       "      <td>298.628565</td>\n",
       "      <td>1062.0</td>\n",
       "      <td>247</td>\n",
       "      <td>0</td>\n",
       "    </tr>\n",
       "    <tr>\n",
       "      <th>2</th>\n",
       "      <td>0.0</td>\n",
       "      <td>0.0</td>\n",
       "      <td>0.0</td>\n",
       "      <td>0.0</td>\n",
       "      <td>0.707030</td>\n",
       "      <td>0.292970</td>\n",
       "      <td>0.036572</td>\n",
       "      <td>0.036572</td>\n",
       "      <td>36.765539</td>\n",
       "      <td>15.234461</td>\n",
       "      <td>52.0</td>\n",
       "      <td>163</td>\n",
       "      <td>0</td>\n",
       "    </tr>\n",
       "    <tr>\n",
       "      <th>3</th>\n",
       "      <td>0.0</td>\n",
       "      <td>0.0</td>\n",
       "      <td>0.0</td>\n",
       "      <td>0.0</td>\n",
       "      <td>0.731882</td>\n",
       "      <td>0.268118</td>\n",
       "      <td>0.024699</td>\n",
       "      <td>0.024699</td>\n",
       "      <td>174.187940</td>\n",
       "      <td>63.812060</td>\n",
       "      <td>238.0</td>\n",
       "      <td>165</td>\n",
       "      <td>0</td>\n",
       "    </tr>\n",
       "    <tr>\n",
       "      <th>4</th>\n",
       "      <td>0.0</td>\n",
       "      <td>3.0</td>\n",
       "      <td>0.0</td>\n",
       "      <td>0.0</td>\n",
       "      <td>0.750163</td>\n",
       "      <td>0.249837</td>\n",
       "      <td>0.022964</td>\n",
       "      <td>0.022964</td>\n",
       "      <td>603.131025</td>\n",
       "      <td>200.868975</td>\n",
       "      <td>804.0</td>\n",
       "      <td>168</td>\n",
       "      <td>0</td>\n",
       "    </tr>\n",
       "  </tbody>\n",
       "</table>\n",
       "</div>"
      ],
      "text/plain": [
       "     A     B    D    E  mean_m_prob  mean_n_prob  std_m_prob  std_n_prob  \\\n",
       "0  0.0  18.0  0.0  0.0     0.750732     0.249268    0.028570    0.028570   \n",
       "1  0.0   7.0  0.0  0.0     0.718805     0.281195    0.039801    0.039801   \n",
       "2  0.0   0.0  0.0  0.0     0.707030     0.292970    0.036572    0.036572   \n",
       "3  0.0   0.0  0.0  0.0     0.731882     0.268118    0.024699    0.024699   \n",
       "4  0.0   3.0  0.0  0.0     0.750163     0.249837    0.022964    0.022964   \n",
       "\n",
       "    sum_m_prob  sum_n_prob   tiles  wsi_id  metastasis  \n",
       "0  1084.056922  359.943077  1444.0     229           0  \n",
       "1   763.371435  298.628565  1062.0     247           0  \n",
       "2    36.765539   15.234461    52.0     163           0  \n",
       "3   174.187940   63.812060   238.0     165           0  \n",
       "4   603.131025  200.868975   804.0     168           0  "
      ]
     },
     "execution_count": 20,
     "metadata": {},
     "output_type": "execute_result"
    }
   ],
   "source": [
    "df.head()"
   ]
  },
  {
   "cell_type": "code",
   "execution_count": 325,
   "id": "69b48380",
   "metadata": {},
   "outputs": [],
   "source": [
    "clinical_df.rename(columns = {'p_id':'wsi_id'}, inplace=True)"
   ]
  },
  {
   "cell_type": "code",
   "execution_count": 326,
   "id": "0896b60d",
   "metadata": {},
   "outputs": [
    {
     "data": {
      "text/html": [
       "<div>\n",
       "<style scoped>\n",
       "    .dataframe tbody tr th:only-of-type {\n",
       "        vertical-align: middle;\n",
       "    }\n",
       "\n",
       "    .dataframe tbody tr th {\n",
       "        vertical-align: top;\n",
       "    }\n",
       "\n",
       "    .dataframe thead th {\n",
       "        text-align: right;\n",
       "    }\n",
       "</style>\n",
       "<table border=\"1\" class=\"dataframe\">\n",
       "  <thead>\n",
       "    <tr style=\"text-align: right;\">\n",
       "      <th></th>\n",
       "      <th>A</th>\n",
       "      <th>B</th>\n",
       "      <th>D</th>\n",
       "      <th>E</th>\n",
       "      <th>mean_m_prob</th>\n",
       "      <th>mean_n_prob</th>\n",
       "      <th>std_m_prob</th>\n",
       "      <th>std_n_prob</th>\n",
       "      <th>sum_m_prob</th>\n",
       "      <th>sum_n_prob</th>\n",
       "      <th>tiles</th>\n",
       "      <th>wsi_id</th>\n",
       "      <th>metastasis</th>\n",
       "      <th>er_status</th>\n",
       "      <th>er_score</th>\n",
       "      <th>her2</th>\n",
       "    </tr>\n",
       "  </thead>\n",
       "  <tbody>\n",
       "    <tr>\n",
       "      <th>0</th>\n",
       "      <td>0.0</td>\n",
       "      <td>18.0</td>\n",
       "      <td>0.0</td>\n",
       "      <td>0.0</td>\n",
       "      <td>0.750732</td>\n",
       "      <td>0.249268</td>\n",
       "      <td>0.028570</td>\n",
       "      <td>0.028570</td>\n",
       "      <td>1084.056922</td>\n",
       "      <td>359.943077</td>\n",
       "      <td>1444.0</td>\n",
       "      <td>229</td>\n",
       "      <td>0</td>\n",
       "      <td>1.0</td>\n",
       "      <td>95.0</td>\n",
       "      <td>0.0</td>\n",
       "    </tr>\n",
       "    <tr>\n",
       "      <th>1</th>\n",
       "      <td>0.0</td>\n",
       "      <td>7.0</td>\n",
       "      <td>0.0</td>\n",
       "      <td>0.0</td>\n",
       "      <td>0.718805</td>\n",
       "      <td>0.281195</td>\n",
       "      <td>0.039801</td>\n",
       "      <td>0.039801</td>\n",
       "      <td>763.371435</td>\n",
       "      <td>298.628565</td>\n",
       "      <td>1062.0</td>\n",
       "      <td>247</td>\n",
       "      <td>0</td>\n",
       "      <td>1.0</td>\n",
       "      <td>95.0</td>\n",
       "      <td>1.0</td>\n",
       "    </tr>\n",
       "    <tr>\n",
       "      <th>2</th>\n",
       "      <td>0.0</td>\n",
       "      <td>0.0</td>\n",
       "      <td>0.0</td>\n",
       "      <td>0.0</td>\n",
       "      <td>0.707030</td>\n",
       "      <td>0.292970</td>\n",
       "      <td>0.036572</td>\n",
       "      <td>0.036572</td>\n",
       "      <td>36.765539</td>\n",
       "      <td>15.234461</td>\n",
       "      <td>52.0</td>\n",
       "      <td>163</td>\n",
       "      <td>0</td>\n",
       "      <td>1.0</td>\n",
       "      <td>95.0</td>\n",
       "      <td>0.0</td>\n",
       "    </tr>\n",
       "    <tr>\n",
       "      <th>3</th>\n",
       "      <td>0.0</td>\n",
       "      <td>0.0</td>\n",
       "      <td>0.0</td>\n",
       "      <td>0.0</td>\n",
       "      <td>0.731882</td>\n",
       "      <td>0.268118</td>\n",
       "      <td>0.024699</td>\n",
       "      <td>0.024699</td>\n",
       "      <td>174.187940</td>\n",
       "      <td>63.812060</td>\n",
       "      <td>238.0</td>\n",
       "      <td>165</td>\n",
       "      <td>0</td>\n",
       "      <td>1.0</td>\n",
       "      <td>100.0</td>\n",
       "      <td>1.0</td>\n",
       "    </tr>\n",
       "    <tr>\n",
       "      <th>4</th>\n",
       "      <td>0.0</td>\n",
       "      <td>3.0</td>\n",
       "      <td>0.0</td>\n",
       "      <td>0.0</td>\n",
       "      <td>0.750163</td>\n",
       "      <td>0.249837</td>\n",
       "      <td>0.022964</td>\n",
       "      <td>0.022964</td>\n",
       "      <td>603.131025</td>\n",
       "      <td>200.868975</td>\n",
       "      <td>804.0</td>\n",
       "      <td>168</td>\n",
       "      <td>0</td>\n",
       "      <td>1.0</td>\n",
       "      <td>95.0</td>\n",
       "      <td>0.0</td>\n",
       "    </tr>\n",
       "  </tbody>\n",
       "</table>\n",
       "</div>"
      ],
      "text/plain": [
       "     A     B    D    E  mean_m_prob  mean_n_prob  std_m_prob  std_n_prob  \\\n",
       "0  0.0  18.0  0.0  0.0     0.750732     0.249268    0.028570    0.028570   \n",
       "1  0.0   7.0  0.0  0.0     0.718805     0.281195    0.039801    0.039801   \n",
       "2  0.0   0.0  0.0  0.0     0.707030     0.292970    0.036572    0.036572   \n",
       "3  0.0   0.0  0.0  0.0     0.731882     0.268118    0.024699    0.024699   \n",
       "4  0.0   3.0  0.0  0.0     0.750163     0.249837    0.022964    0.022964   \n",
       "\n",
       "    sum_m_prob  sum_n_prob   tiles  wsi_id  metastasis  er_status  er_score  \\\n",
       "0  1084.056922  359.943077  1444.0     229           0        1.0      95.0   \n",
       "1   763.371435  298.628565  1062.0     247           0        1.0      95.0   \n",
       "2    36.765539   15.234461    52.0     163           0        1.0      95.0   \n",
       "3   174.187940   63.812060   238.0     165           0        1.0     100.0   \n",
       "4   603.131025  200.868975   804.0     168           0        1.0      95.0   \n",
       "\n",
       "   her2  \n",
       "0   0.0  \n",
       "1   1.0  \n",
       "2   0.0  \n",
       "3   1.0  \n",
       "4   0.0  "
      ]
     },
     "execution_count": 326,
     "metadata": {},
     "output_type": "execute_result"
    }
   ],
   "source": [
    "m_df = pd.merge(left = df , right = clinical_df, how = \"inner\", on = \"wsi_id\")\n",
    "m_df.head()"
   ]
  },
  {
   "cell_type": "code",
   "execution_count": 349,
   "id": "e8a38ce4",
   "metadata": {},
   "outputs": [],
   "source": [
    "m_df.dropna(inplace=True)"
   ]
  },
  {
   "cell_type": "code",
   "execution_count": 194,
   "id": "9474bd0e",
   "metadata": {},
   "outputs": [
    {
     "data": {
      "image/png": "[encoded data removed]",
      "text/plain": [
       "<Figure size 864x576 with 1 Axes>"
      ]
     },
     "metadata": {
      "needs_background": "light"
     },
     "output_type": "display_data"
    }
   ],
   "source": [
    "hist = m_df.hist(column = ['tiles'], bins=25, figsize=(12,8))"
   ]
  },
  {
   "cell_type": "code",
   "execution_count": 195,
   "id": "1084aeca",
   "metadata": {},
   "outputs": [
    {
     "data": {
      "image/png": "[encoded data removed]",
      "text/plain": [
       "<Figure size 864x576 with 2 Axes>"
      ]
     },
     "metadata": {
      "needs_background": "light"
     },
     "output_type": "display_data"
    }
   ],
   "source": [
    "hist = m_df[['B', 'D']].hist(bins=10, figsize=(12,8))"
   ]
  },
  {
   "cell_type": "code",
   "execution_count": 372,
   "id": "c26148ba",
   "metadata": {},
   "outputs": [
    {
     "data": {
      "image/png": "[encoded data removed]",
      "text/plain": [
       "<Figure size 864x576 with 6 Axes>"
      ]
     },
     "metadata": {
      "needs_background": "light"
     },
     "output_type": "display_data"
    }
   ],
   "source": [
    "hist = m_df[['mean_m_prob','mean_n_prob','std_m_prob','std_n_prob','tiles','metastasis']].hist(bins=10, figsize=(12,8))"
   ]
  },
  {
   "cell_type": "code",
   "execution_count": 327,
   "id": "e313fd9c",
   "metadata": {},
   "outputs": [
    {
     "data": {
      "image/png": "[encoded data removed]",
      "text/plain": [
       "<Figure size 1296x432 with 2 Axes>"
      ]
     },
     "metadata": {
      "needs_background": "light"
     },
     "output_type": "display_data"
    }
   ],
   "source": [
    "# Visualizing a Pandas Correlation Matrix Using Seaborn\n",
    "corr_df = m_df.drop(['metastasis'], axis=1)\n",
    "matrix = corr_df.corr().round(3)\n",
    "\n",
    "fig, ax = plt.subplots(figsize=(18, 6))         # Sample figsize in inches\n",
    "sns.heatmap(matrix, annot=True, ax=ax)\n",
    "plt.show()"
   ]
  },
  {
   "cell_type": "code",
   "execution_count": 198,
   "id": "d0813a7f",
   "metadata": {},
   "outputs": [
    {
     "name": "stdout",
     "output_type": "stream",
     "text": [
      "<class 'pandas.core.frame.DataFrame'>\n",
      "Int64Index: 53 entries, 0 to 61\n",
      "Data columns (total 16 columns):\n",
      " #   Column       Non-Null Count  Dtype  \n",
      "---  ------       --------------  -----  \n",
      " 0   A            53 non-null     float64\n",
      " 1   B            53 non-null     float64\n",
      " 2   D            53 non-null     float64\n",
      " 3   E            53 non-null     float64\n",
      " 4   mean_m_prob  53 non-null     float64\n",
      " 5   mean_n_prob  53 non-null     float64\n",
      " 6   std_m_prob   53 non-null     float64\n",
      " 7   std_n_prob   53 non-null     float64\n",
      " 8   sum_m_prob   53 non-null     float64\n",
      " 9   sum_n_prob   53 non-null     float64\n",
      " 10  tiles        53 non-null     float64\n",
      " 11  wsi_id       53 non-null     int64  \n",
      " 12  metastasis   53 non-null     int64  \n",
      " 13  er_status    53 non-null     float64\n",
      " 14  er_score     53 non-null     float64\n",
      " 15  her2         53 non-null     float64\n",
      "dtypes: float64(14), int64(2)\n",
      "memory usage: 7.0 KB\n"
     ]
    }
   ],
   "source": [
    "m_df.info()"
   ]
  },
  {
   "cell_type": "code",
   "execution_count": 359,
   "id": "7930f9c0",
   "metadata": {},
   "outputs": [],
   "source": [
    "test_df = m_df.drop(['mean_n_prob', 'std_n_prob', 'sum_m_prob','sum_n_prob'], axis=1)"
   ]
  },
  {
   "cell_type": "code",
   "execution_count": 366,
   "id": "cd8a6a47",
   "metadata": {},
   "outputs": [
    {
     "name": "stdout",
     "output_type": "stream",
     "text": [
      "42 11\n",
      "Train. X: 42, Y: 42\n",
      "Test. X: 11, Y: 11\n"
     ]
    }
   ],
   "source": [
    "train, test = train_test_split(test_df, test_size=0.2)\n",
    "print(len(train), len(test))\n",
    "\n",
    "X_train = train.drop(['metastasis'], axis=1)\n",
    "y_train = train['metastasis']\n",
    "X_test = test.drop(['metastasis'], axis=1)\n",
    "y_test = test['metastasis']\n",
    "\n",
    "print(f'Train. X: {len(X_train)}, Y: {len(y_train)}')\n",
    "print(f'Test. X: {len(X_test)}, Y: {len(y_test)}')"
   ]
  },
  {
   "cell_type": "code",
   "execution_count": 367,
   "id": "c8d19a45",
   "metadata": {},
   "outputs": [
    {
     "name": "stdout",
     "output_type": "stream",
     "text": [
      "[15:55:51] WARNING: ../src/learner.cc:1115: Starting in XGBoost 1.3.0, the default evaluation metric used with the objective 'binary:logistic' was changed from 'error' to 'logloss'. Explicitly set eval_metric if you'd like to restore the old behavior.\n"
     ]
    },
    {
     "data": {
      "text/plain": [
       "XGBClassifier(base_score=0.5, booster='gbtree', colsample_bylevel=1,\n",
       "              colsample_bynode=1, colsample_bytree=1, enable_categorical=False,\n",
       "              gamma=0, gpu_id=-1, importance_type=None,\n",
       "              interaction_constraints='', learning_rate=0.300000012,\n",
       "              max_delta_step=0, max_depth=6, min_child_weight=1, missing=nan,\n",
       "              monotone_constraints='()', n_estimators=100, n_jobs=40,\n",
       "              num_parallel_tree=1, predictor='auto', random_state=0,\n",
       "              reg_alpha=0, reg_lambda=1, scale_pos_weight=1, subsample=1,\n",
       "              tree_method='exact', use_label_encoder=False,\n",
       "              validate_parameters=1, verbosity=None)"
      ]
     },
     "execution_count": 367,
     "metadata": {},
     "output_type": "execute_result"
    }
   ],
   "source": [
    "model = xgboost.XGBClassifier(use_label_encoder=False)\n",
    "model.fit(X_train, y_train)"
   ]
  },
  {
   "cell_type": "code",
   "execution_count": 368,
   "id": "37ee94c4",
   "metadata": {},
   "outputs": [],
   "source": [
    "y_pred = model.predict(X_test)"
   ]
  },
  {
   "cell_type": "code",
   "execution_count": 369,
   "id": "ecdd9cc6",
   "metadata": {},
   "outputs": [
    {
     "data": {
      "text/plain": [
       "(5, 0, 2, 4)"
      ]
     },
     "execution_count": 369,
     "metadata": {},
     "output_type": "execute_result"
    }
   ],
   "source": [
    "from sklearn.metrics import confusion_matrix\n",
    "tn, fp, fn, tp = confusion_matrix(y_test, y_pred).ravel()\n",
    "( tn, fp, fn, tp )"
   ]
  },
  {
   "cell_type": "code",
   "execution_count": 370,
   "id": "cd5a6975",
   "metadata": {},
   "outputs": [
    {
     "data": {
      "text/plain": [
       "array([0.83333333, 0.8       ])"
      ]
     },
     "execution_count": 370,
     "metadata": {},
     "output_type": "execute_result"
    }
   ],
   "source": [
    "from sklearn.metrics import f1_score\n",
    "f1_score(y_test, y_pred, average=None)"
   ]
  },
  {
   "cell_type": "code",
   "execution_count": 371,
   "id": "bf43eaf5",
   "metadata": {},
   "outputs": [
    {
     "name": "stdout",
     "output_type": "stream",
     "text": [
      "macro: 0.8166666666666667, micro: 0.8181818181818182, wieghted: 0.8151515151515152\n"
     ]
    }
   ],
   "source": [
    "f1_macro = f1_score(y_test, y_pred, average='macro')\n",
    "f1_micro = f1_score(y_test, y_pred, average='micro')\n",
    "f1_weighted = f1_score(y_test, y_pred, average='weighted')\n",
    "print('macro: {}, micro: {}, wieghted: {}'.format(f1_macro, f1_micro, f1_weighted))"
   ]
  },
  {
   "cell_type": "markdown",
   "id": "cbb54b7b",
   "metadata": {},
   "source": [
    "# Results\n",
    "\n",
    "## All fields\n",
    "macro: 0.9150326797385622, micro: 0.9230769230769231, wieghted: 0.9250879839115134  \n",
    "\n",
    "## except normal fields\n",
    "macro: 0.8194444444444444, micro: 0.8461538461538461, wieghted: 0.8568376068376069  \n",
    "macro: 0.8452380952380951, micro: 0.8461538461538461, wieghted: 0.8443223443223442  \n",
    "macro: 0.9090909090909091, micro: 0.9090909090909091, wieghted: 0.9090909090909091  \n",
    "macro: 0.8035714285714285, micro: 0.8181818181818182, wieghted: 0.8279220779220778  "
   ]
  },
  {
   "cell_type": "code",
   "execution_count": null,
   "id": "f75f1823",
   "metadata": {},
   "outputs": [],
   "source": [
    "from sklearn.ensemble import RandomForestClassifier"
   ]
  },
  {
   "cell_type": "code",
   "execution_count": 356,
   "id": "a96cfcbf",
   "metadata": {},
   "outputs": [
    {
     "data": {
      "text/plain": [
       "RandomForestClassifier(max_depth=5, random_state=0)"
      ]
     },
     "execution_count": 356,
     "metadata": {},
     "output_type": "execute_result"
    }
   ],
   "source": [
    "clf = RandomForestClassifier(max_depth=5, random_state=0)\n",
    "clf.fit(X_train, y_train)"
   ]
  },
  {
   "cell_type": "code",
   "execution_count": 357,
   "id": "68ba397b",
   "metadata": {},
   "outputs": [],
   "source": [
    "y_pred = clf.predict(X_test)"
   ]
  },
  {
   "cell_type": "code",
   "execution_count": 358,
   "id": "e370532f",
   "metadata": {},
   "outputs": [
    {
     "name": "stdout",
     "output_type": "stream",
     "text": [
      "macro: 1.0, micro: 1.0, wieghted: 1.0\n"
     ]
    }
   ],
   "source": [
    "f1_macro = f1_score(y_test, y_pred, average='macro')\n",
    "f1_micro = f1_score(y_test, y_pred, average='micro')\n",
    "f1_weighted = f1_score(y_test, y_pred, average='weighted')\n",
    "print('macro: {}, micro: {}, wieghted: {}'.format(f1_macro, f1_micro, f1_weighted))"
   ]
  },
  {
   "cell_type": "markdown",
   "id": "f075889c",
   "metadata": {},
   "source": [
    "depth 4: macro: 0.9090909090909091, micro: 0.9090909090909091, wieghted: 0.9090909090909091  \n",
    "depth 7: macro: 0.8952380952380952, micro: 0.9090909090909091, wieghted: 0.9125541125541126"
   ]
  }
 ],
 "metadata": {
  "celltoolbar": "Raw Cell Format",
  "kernelspec": {
   "display_name": "Python 3 (ipykernel)",
   "language": "python",
   "name": "python3"
  },
  "language_info": {
   "codemirror_mode": {
    "name": "ipython",
    "version": 3
   },
   "file_extension": ".py",
   "mimetype": "text/x-python",
   "name": "python",
   "nbconvert_exporter": "python",
   "pygments_lexer": "ipython3",
   "version": "3.7.13"
  }
 },
 "nbformat": 4,
 "nbformat_minor": 5
}
